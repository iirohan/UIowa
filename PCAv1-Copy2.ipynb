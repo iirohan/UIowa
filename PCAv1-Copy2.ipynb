{
 "cells": [
  {
   "cell_type": "code",
   "execution_count": 2,
   "metadata": {
    "executionInfo": {
     "elapsed": 15535,
     "status": "ok",
     "timestamp": 1746368088486,
     "user": {
      "displayName": "Rohan Shrestha",
      "userId": "13106112016922751690"
     },
     "user_tz": 300
    },
    "id": "REtJD-pimJ97"
   },
   "outputs": [
    {
     "name": "stdout",
     "output_type": "stream",
     "text": [
      "Defaulting to user installation because normal site-packages is not writeable\n",
      "Requirement already satisfied: torchvision in /home/rshrestha1/.local/lib/python3.11/site-packages (0.22.0)\n",
      "Requirement already satisfied: numpy in /usr/local/lib/python3.11/site-packages (from torchvision) (1.25.2)\n",
      "Requirement already satisfied: torch==2.7.0 in /home/rshrestha1/.local/lib/python3.11/site-packages (from torchvision) (2.7.0)\n",
      "Requirement already satisfied: pillow!=8.3.*,>=5.3.0 in /usr/local/lib/python3.11/site-packages (from torchvision) (10.4.0)\n",
      "Requirement already satisfied: filelock in /home/rshrestha1/.local/lib/python3.11/site-packages (from torch==2.7.0->torchvision) (3.18.0)\n",
      "Requirement already satisfied: typing-extensions>=4.10.0 in /usr/local/lib/python3.11/site-packages (from torch==2.7.0->torchvision) (4.12.2)\n",
      "Requirement already satisfied: sympy>=1.13.3 in /home/rshrestha1/.local/lib/python3.11/site-packages (from torch==2.7.0->torchvision) (1.14.0)\n",
      "Requirement already satisfied: networkx in /usr/local/lib/python3.11/site-packages (from torch==2.7.0->torchvision) (3.3)\n",
      "Requirement already satisfied: jinja2 in /usr/local/lib/python3.11/site-packages (from torch==2.7.0->torchvision) (3.1.4)\n",
      "Requirement already satisfied: fsspec in /usr/local/lib/python3.11/site-packages (from torch==2.7.0->torchvision) (2024.6.1)\n",
      "Requirement already satisfied: nvidia-cuda-nvrtc-cu12==12.6.77 in /home/rshrestha1/.local/lib/python3.11/site-packages (from torch==2.7.0->torchvision) (12.6.77)\n",
      "Requirement already satisfied: nvidia-cuda-runtime-cu12==12.6.77 in /home/rshrestha1/.local/lib/python3.11/site-packages (from torch==2.7.0->torchvision) (12.6.77)\n",
      "Requirement already satisfied: nvidia-cuda-cupti-cu12==12.6.80 in /home/rshrestha1/.local/lib/python3.11/site-packages (from torch==2.7.0->torchvision) (12.6.80)\n",
      "Requirement already satisfied: nvidia-cudnn-cu12==9.5.1.17 in /home/rshrestha1/.local/lib/python3.11/site-packages (from torch==2.7.0->torchvision) (9.5.1.17)\n",
      "Requirement already satisfied: nvidia-cublas-cu12==12.6.4.1 in /home/rshrestha1/.local/lib/python3.11/site-packages (from torch==2.7.0->torchvision) (12.6.4.1)\n",
      "Requirement already satisfied: nvidia-cufft-cu12==11.3.0.4 in /home/rshrestha1/.local/lib/python3.11/site-packages (from torch==2.7.0->torchvision) (11.3.0.4)\n",
      "Requirement already satisfied: nvidia-curand-cu12==10.3.7.77 in /home/rshrestha1/.local/lib/python3.11/site-packages (from torch==2.7.0->torchvision) (10.3.7.77)\n",
      "Requirement already satisfied: nvidia-cusolver-cu12==11.7.1.2 in /home/rshrestha1/.local/lib/python3.11/site-packages (from torch==2.7.0->torchvision) (11.7.1.2)\n",
      "Requirement already satisfied: nvidia-cusparse-cu12==12.5.4.2 in /home/rshrestha1/.local/lib/python3.11/site-packages (from torch==2.7.0->torchvision) (12.5.4.2)\n",
      "Requirement already satisfied: nvidia-cusparselt-cu12==0.6.3 in /home/rshrestha1/.local/lib/python3.11/site-packages (from torch==2.7.0->torchvision) (0.6.3)\n",
      "Requirement already satisfied: nvidia-nccl-cu12==2.26.2 in /home/rshrestha1/.local/lib/python3.11/site-packages (from torch==2.7.0->torchvision) (2.26.2)\n",
      "Requirement already satisfied: nvidia-nvtx-cu12==12.6.77 in /home/rshrestha1/.local/lib/python3.11/site-packages (from torch==2.7.0->torchvision) (12.6.77)\n",
      "Requirement already satisfied: nvidia-nvjitlink-cu12==12.6.85 in /home/rshrestha1/.local/lib/python3.11/site-packages (from torch==2.7.0->torchvision) (12.6.85)\n",
      "Requirement already satisfied: nvidia-cufile-cu12==1.11.1.6 in /home/rshrestha1/.local/lib/python3.11/site-packages (from torch==2.7.0->torchvision) (1.11.1.6)\n",
      "Requirement already satisfied: triton==3.3.0 in /home/rshrestha1/.local/lib/python3.11/site-packages (from torch==2.7.0->torchvision) (3.3.0)\n",
      "Requirement already satisfied: setuptools>=40.8.0 in /usr/local/lib/python3.11/site-packages (from triton==3.3.0->torch==2.7.0->torchvision) (65.5.0)\n",
      "Requirement already satisfied: mpmath<1.4,>=1.1.0 in /usr/local/lib/python3.11/site-packages (from sympy>=1.13.3->torch==2.7.0->torchvision) (1.3.0)\n",
      "Requirement already satisfied: MarkupSafe>=2.0 in /usr/local/lib/python3.11/site-packages (from jinja2->torch==2.7.0->torchvision) (2.1.5)\n",
      "\n",
      "\u001b[1m[\u001b[0m\u001b[34;49mnotice\u001b[0m\u001b[1;39;49m]\u001b[0m\u001b[39;49m A new release of pip is available: \u001b[0m\u001b[31;49m24.2\u001b[0m\u001b[39;49m -> \u001b[0m\u001b[32;49m25.1.1\u001b[0m\n",
      "\u001b[1m[\u001b[0m\u001b[34;49mnotice\u001b[0m\u001b[1;39;49m]\u001b[0m\u001b[39;49m To update, run: \u001b[0m\u001b[32;49mpip install --upgrade pip\u001b[0m\n"
     ]
    }
   ],
   "source": [
    "!pip install torchvision\n",
    "import numpy as np\n",
    "import torch\n",
    "from torchvision import datasets, transforms\n",
    "from torch.utils.data import Subset\n",
    "from sklearn.model_selection import train_test_split\n",
    "import matplotlib.pyplot as plt\n",
    "from sklearn.metrics.pairwise import pairwise_kernels\n",
    "from sklearn.metrics import mean_squared_error"
   ]
  },
  {
   "cell_type": "code",
   "execution_count": 3,
   "metadata": {
    "colab": {
     "base_uri": "https://localhost:8080/"
    },
    "executionInfo": {
     "elapsed": 15716,
     "status": "ok",
     "timestamp": 1746368104211,
     "user": {
      "displayName": "Rohan Shrestha",
      "userId": "13106112016922751690"
     },
     "user_tz": 300
    },
    "id": "iNbq3OPCmT7M",
    "outputId": "97ae2149-07fc-4d02-d2ee-a9842b8126fb"
   },
   "outputs": [],
   "source": [
    "### Step 1: Prepare MNIST Dataset with digits 1 and 8\n",
    "def prepare_mnist_data(seed=1234):\n",
    "    np.random.seed(seed)\n",
    "    torch.manual_seed(seed)\n",
    "    transform = transforms.ToTensor()\n",
    "    mnist = datasets.MNIST(root='./data', train=True, download=True, transform=transform)\n",
    "    digit_1_indices = [i for i, (img, label) in enumerate(mnist) if label == 1][:5000]\n",
    "    digit_8_indices = [i for i, (img, label) in enumerate(mnist) if label == 8][:5000]\n",
    "    selected_indices = digit_1_indices + digit_8_indices\n",
    "    subset = Subset(mnist, selected_indices)\n",
    "    images, labels = [], []\n",
    "    for img, label in subset:\n",
    "        images.append(img.view(-1))\n",
    "        labels.append(label)\n",
    "    images = torch.stack(images)\n",
    "    labels = torch.tensor(labels)\n",
    "    X_train, X_test, y_train, y_test = train_test_split(\n",
    "        images, labels, test_size=0.3, random_state=seed, stratify=labels\n",
    "    )\n",
    "    return X_train, X_test, y_train, y_test\n",
    "\n",
    "X_train, X_test, y_train, y_test = prepare_mnist_data()\n",
    "X_train_np = X_train.numpy()\n",
    "X_test_np = X_test.numpy()"
   ]
  },
  {
   "cell_type": "code",
   "execution_count": 4,
   "metadata": {
    "executionInfo": {
     "elapsed": 7,
     "status": "ok",
     "timestamp": 1746368104221,
     "user": {
      "displayName": "Rohan Shrestha",
      "userId": "13106112016922751690"
     },
     "user_tz": 300
    },
    "id": "BGF2qHJ0oVqQ"
   },
   "outputs": [],
   "source": [
    "### Step 2: Kernel PCA Functions (RBF and Polynomial Kernel)\n",
    "def rbf_kernel_torch(x, X_train, gamma):\n",
    "    diff = X_train - x\n",
    "    dists = torch.sum(diff ** 2, dim=1, keepdim=True).T\n",
    "    return torch.exp(-gamma * dists)\n",
    "\n",
    "def poly_kernel_torch(x, X_train, degree=3, c=1.0, alpha=1.0):\n",
    "    dot_product = torch.matmul(X_train, x.T)\n",
    "    return (alpha * dot_product + c) ** degree\n",
    "    \n",
    "def center_kernel(K):\n",
    "    N = K.shape[0]\n",
    "    one_N = np.ones((N, N)) / N\n",
    "    return K - one_N @ K - K @ one_N + one_N @ K @ one_N\n",
    "\n",
    "def kernel_pca(K, M=50):\n",
    "    Kc = center_kernel(K)\n",
    "    eigvals, eigvecs = np.linalg.eigh(Kc)\n",
    "    idx = np.argsort(eigvals)[::-1][:M]\n",
    "    lambdas = eigvals[idx]\n",
    "    alphas = eigvecs[:, idx]\n",
    "    alphas = alphas / np.sqrt(lambdas)\n",
    "    return Kc, alphas, lambdas\n",
    "\n",
    "def compute_kernel(X1, X2, kernel_type='rbf', gamma=0.01, c=1.0):\n",
    "    if kernel_type == 'rbf':\n",
    "        return pairwise_kernels(X1, X2, metric='rbf', gamma=gamma)\n",
    "    elif kernel_type == 'poly':\n",
    "        return pairwise_kernels(X1, X2, metric='poly', degree=3, coef0=c)\n",
    "    else:\n",
    "        raise ValueError(\"Unsupported kernel type\")\n",
    "\n",
    "def project_kernel(X_test, X_train, alphas, gamma, kernel_type='rbf', c=1.0):\n",
    "    print('Projecting Kernel')\n",
    "    K_test = compute_kernel(X_test, X_train, kernel_type, gamma, c)\n",
    "    return K_test @ alphas"
   ]
  },
  {
   "cell_type": "code",
   "execution_count": 5,
   "metadata": {
    "executionInfo": {
     "elapsed": 8,
     "status": "ok",
     "timestamp": 1746368104225,
     "user": {
      "displayName": "Rohan Shrestha",
      "userId": "13106112016922751690"
     },
     "user_tz": 300
    },
    "id": "HBqU7NY6oltz"
   },
   "outputs": [],
   "source": [
    "### Step 3: Exact Pre-image Reconstruction using Gradient Descent\n",
    "def reconstruct_kernel_pca_exact(z_n, alphas, lambdas, X_train, gamma, lr=0.01, steps=25,\n",
    "                                  kernel_type='rbf', degree=3, coef0=10.0, alpha=1.0):\n",
    "    device = torch.device(\"cuda\" if torch.cuda.is_available() else \"cpu\")\n",
    "    X_train = torch.tensor(X_train, dtype=torch.float32).to(device)\n",
    "    z_n = torch.tensor(z_n, dtype=torch.float32).to(device)\n",
    "    alphas = torch.tensor(alphas, dtype=torch.float32).to(device)\n",
    "    lambdas = torch.tensor(lambdas, dtype=torch.float32).to(device)\n",
    "\n",
    "    x_hat = torch.randn((1, X_train.shape[1]), requires_grad=True, device=device)\n",
    "    optimizer = torch.optim.Adam([x_hat], lr=lr)\n",
    "\n",
    "    for step in range(steps):\n",
    "        optimizer.zero_grad()\n",
    "        if kernel_type == 'rbf':\n",
    "            k = rbf_kernel_torch(x_hat, X_train, gamma)  # (1, n_samples)\n",
    "        elif kernel_type == 'poly':\n",
    "            k = poly_kernel_torch(x_hat, X_train, degree=degree, c=c, alpha=alpha)\n",
    "        else:\n",
    "            raise ValueError(\"Unsupported kernel type\") \n",
    "        \n",
    "        z_est = (k @ alphas) / torch.sqrt(lambdas)  # (1, n_components)\n",
    "        loss = torch.nn.functional.mse_loss(z_est.squeeze(), z_n)\n",
    "        loss.backward()\n",
    "        optimizer.step()\n",
    "\n",
    "    return x_hat.detach().cpu().numpy().squeeze()\n",
    "\n",
    "def batch_kernel_pca_reconstruct(Z, alphas, lambdas, X_train, gamma, lr=0.01, steps=1000, num_samples=5):\n",
    "    reconstructions = []\n",
    "    selected_indices = np.random.choice(Z.shape[0], size=num_samples, replace=False)\n",
    "    for idx in selected_indices:\n",
    "        z_n = Z[idx]\n",
    "        x_hat = reconstruct_kernel_pca_exact(z_n, alphas, lambdas, X_train, gamma, lr, steps)\n",
    "        reconstructions.append((X_train[idx], x_hat))\n",
    "    return reconstructions\n",
    "\n",
    "def plot_kernel_pca_reconstructions(pairs, title=\"Kernel PCA: Original vs Reconstructed\"):\n",
    "    n = len(pairs)\n",
    "    plt.figure(figsize=(2 * n, 4))\n",
    "    for i, (orig, recon) in enumerate(pairs):\n",
    "        plt.subplot(2, n, i + 1)\n",
    "        plt.imshow(orig.reshape(28, 28), cmap='gray')\n",
    "        plt.axis('off')\n",
    "        plt.title(\"Original\")\n",
    "        plt.subplot(2, n, i + 1 + n)\n",
    "        plt.imshow(recon.reshape(28, 28), cmap='gray')\n",
    "        plt.axis('off')\n",
    "        plt.title(\"Reconstructed\")\n",
    "    plt.suptitle(title, fontsize=16)\n",
    "    plt.tight_layout()\n",
    "    plt.show()\n",
    "\n",
    "\n",
    "def compute_test_mse(X_test, X_train, alphas, lambdas, gamma, kernel_type, c):\n",
    "    test_mse = []\n",
    "    for M in range(1, 11):\n",
    "        print(f'M = {M}')\n",
    "        Z_test = project_kernel(X_test, X_train, alphas[:, :M], gamma, kernel_type=kernel_type, c=c)\n",
    "        print(f'Number of test samples: {len(X_test)}')\n",
    "        recons = [reconstruct_kernel_pca_exact(Z_test[i], alphas[:, :M], lambdas[:M], X_train, gamma) for i in range(len(X_test))]\n",
    "        mse = mean_squared_error(X_test, recons)\n",
    "        test_mse.append(mse)\n",
    "        print(mse)\n",
    "    return test_mse\n",
    "\n",
    "def plot_mse_curve(mse_list, method_name):\n",
    "    plt.figure(figsize=(8, 4))\n",
    "    plt.plot(range(1, 11), mse_list, marker='o', label=method_name)\n",
    "    plt.xlabel(\"M (Number of Components)\")\n",
    "    plt.ylabel(\"Test MSE\")\n",
    "    plt.title(f\"Test MSE vs. M for {method_name}\")\n",
    "    plt.grid(True)\n",
    "    plt.legend()\n",
    "    plt.tight_layout()\n",
    "    plt.show()"
   ]
  },
  {
   "cell_type": "code",
   "execution_count": 9,
   "metadata": {},
   "outputs": [
    {
     "name": "stdout",
     "output_type": "stream",
     "text": [
      "1\n"
     ]
    },
    {
     "name": "stderr",
     "output_type": "stream",
     "text": [
      "/tmp/ipykernel_7296/2240592910.py:5: UserWarning: To copy construct from a tensor, it is recommended to use sourceTensor.detach().clone() or sourceTensor.detach().clone().requires_grad_(True), rather than torch.tensor(sourceTensor).\n",
      "  X_train = torch.tensor(X_train, dtype=torch.float32).to(device)\n",
      "/tmp/ipykernel_7296/2240592910.py:23: UserWarning: Using a target size (torch.Size([1])) that is different to the input size (torch.Size([])). This will likely lead to incorrect results due to broadcasting. Please ensure they have the same size.\n",
      "  loss = torch.nn.functional.mse_loss(z_est.squeeze(), z_n)\n"
     ]
    },
    {
     "name": "stdout",
     "output_type": "stream",
     "text": [
      "2\n"
     ]
    },
    {
     "name": "stderr",
     "output_type": "stream",
     "text": [
      "/tmp/ipykernel_7296/2240592910.py:5: UserWarning: To copy construct from a tensor, it is recommended to use sourceTensor.detach().clone() or sourceTensor.detach().clone().requires_grad_(True), rather than torch.tensor(sourceTensor).\n",
      "  X_train = torch.tensor(X_train, dtype=torch.float32).to(device)\n"
     ]
    },
    {
     "name": "stdout",
     "output_type": "stream",
     "text": [
      "3\n"
     ]
    },
    {
     "name": "stderr",
     "output_type": "stream",
     "text": [
      "/tmp/ipykernel_7296/2240592910.py:5: UserWarning: To copy construct from a tensor, it is recommended to use sourceTensor.detach().clone() or sourceTensor.detach().clone().requires_grad_(True), rather than torch.tensor(sourceTensor).\n",
      "  X_train = torch.tensor(X_train, dtype=torch.float32).to(device)\n"
     ]
    },
    {
     "name": "stdout",
     "output_type": "stream",
     "text": [
      "4\n"
     ]
    },
    {
     "name": "stderr",
     "output_type": "stream",
     "text": [
      "/tmp/ipykernel_7296/2240592910.py:5: UserWarning: To copy construct from a tensor, it is recommended to use sourceTensor.detach().clone() or sourceTensor.detach().clone().requires_grad_(True), rather than torch.tensor(sourceTensor).\n",
      "  X_train = torch.tensor(X_train, dtype=torch.float32).to(device)\n"
     ]
    },
    {
     "name": "stdout",
     "output_type": "stream",
     "text": [
      "5\n"
     ]
    },
    {
     "name": "stderr",
     "output_type": "stream",
     "text": [
      "/tmp/ipykernel_7296/2240592910.py:5: UserWarning: To copy construct from a tensor, it is recommended to use sourceTensor.detach().clone() or sourceTensor.detach().clone().requires_grad_(True), rather than torch.tensor(sourceTensor).\n",
      "  X_train = torch.tensor(X_train, dtype=torch.float32).to(device)\n"
     ]
    },
    {
     "name": "stdout",
     "output_type": "stream",
     "text": [
      "6\n"
     ]
    },
    {
     "name": "stderr",
     "output_type": "stream",
     "text": [
      "/tmp/ipykernel_7296/2240592910.py:5: UserWarning: To copy construct from a tensor, it is recommended to use sourceTensor.detach().clone() or sourceTensor.detach().clone().requires_grad_(True), rather than torch.tensor(sourceTensor).\n",
      "  X_train = torch.tensor(X_train, dtype=torch.float32).to(device)\n"
     ]
    },
    {
     "name": "stdout",
     "output_type": "stream",
     "text": [
      "7\n"
     ]
    },
    {
     "name": "stderr",
     "output_type": "stream",
     "text": [
      "/tmp/ipykernel_7296/2240592910.py:5: UserWarning: To copy construct from a tensor, it is recommended to use sourceTensor.detach().clone() or sourceTensor.detach().clone().requires_grad_(True), rather than torch.tensor(sourceTensor).\n",
      "  X_train = torch.tensor(X_train, dtype=torch.float32).to(device)\n"
     ]
    },
    {
     "name": "stdout",
     "output_type": "stream",
     "text": [
      "8\n"
     ]
    },
    {
     "name": "stderr",
     "output_type": "stream",
     "text": [
      "/tmp/ipykernel_7296/2240592910.py:5: UserWarning: To copy construct from a tensor, it is recommended to use sourceTensor.detach().clone() or sourceTensor.detach().clone().requires_grad_(True), rather than torch.tensor(sourceTensor).\n",
      "  X_train = torch.tensor(X_train, dtype=torch.float32).to(device)\n"
     ]
    },
    {
     "name": "stdout",
     "output_type": "stream",
     "text": [
      "9\n"
     ]
    },
    {
     "name": "stderr",
     "output_type": "stream",
     "text": [
      "/tmp/ipykernel_7296/2240592910.py:5: UserWarning: To copy construct from a tensor, it is recommended to use sourceTensor.detach().clone() or sourceTensor.detach().clone().requires_grad_(True), rather than torch.tensor(sourceTensor).\n",
      "  X_train = torch.tensor(X_train, dtype=torch.float32).to(device)\n"
     ]
    },
    {
     "name": "stdout",
     "output_type": "stream",
     "text": [
      "10\n"
     ]
    },
    {
     "name": "stderr",
     "output_type": "stream",
     "text": [
      "/tmp/ipykernel_7296/2240592910.py:5: UserWarning: To copy construct from a tensor, it is recommended to use sourceTensor.detach().clone() or sourceTensor.detach().clone().requires_grad_(True), rather than torch.tensor(sourceTensor).\n",
      "  X_train = torch.tensor(X_train, dtype=torch.float32).to(device)\n"
     ]
    },
    {
     "data": {
      "image/png": "[encoded data removed]",
      "text/plain": [
       "<Figure size 800x400 with 1 Axes>"
      ]
     },
     "metadata": {},
     "output_type": "display_data"
    }
   ],
   "source": [
    "## Evaluation of Reconstructed Images\n",
    "kernel_type = 'poly' ##or rbf\n",
    "gamma = 0.01\n",
    "c = 10.0\n",
    "\n",
    "mse_scores = []\n",
    "\n",
    "K_test = compute_kernel(X_test_np, X_test_np, kernel_type=kernel_type, gamma=gamma, c=c)\n",
    "\n",
    "for M in range(1, 11):\n",
    "    print(M)\n",
    "    Kc, alphas, lambdas = kernel_pca(K_test, M=M)\n",
    "    Z_test = Kc @ alphas\n",
    "    recons = [reconstruct_kernel_pca_exact(Z_test[i], alphas[:, :M], lambdas[:M], X_test, gamma, c) for i in range(len(X_test))]\n",
    "    mse = mean_squared_error(X_test, recons)\n",
    "    mse_scores.append(mse)\n",
    "\n",
    "plot_mse_curve(mse_scores, method_name=f\"{kernel_type.upper()} Kernel PCA\")"
   ]
  },
  {
   "cell_type": "code",
   "execution_count": 10,
   "metadata": {},
   "outputs": [
    {
     "data": {
      "image/png": "[encoded data removed]",
      "text/plain": [
       "<Figure size 1000x400 with 10 Axes>"
      ]
     },
     "metadata": {},
     "output_type": "display_data"
    }
   ],
   "source": [
    "### Reconstruction from Kernel PCA\n",
    "kernel_type = 'rbf' ## or 'poly'\n",
    "gamma = 0.01\n",
    "c = 10.0\n",
    "\n",
    "K_test = compute_kernel(X_test_np, X_test_np, kernel_type=kernel_type, gamma=gamma, c=c)\n",
    "Kc, alphas, lambdas = kernel_pca(K_test, M=8)\n",
    "Z_test = Kc @ alphas\n",
    "\n",
    "recon_pairs = batch_kernel_pca_reconstruct(\n",
    "    Z=Z_test,\n",
    "    alphas=alphas,\n",
    "    lambdas=lambdas,\n",
    "    X_train=X_test_np,\n",
    "    gamma=gamma,\n",
    "    lr=0.01,\n",
    "    steps=1000,\n",
    "    num_samples=5\n",
    ")\n",
    "\n",
    "plot_kernel_pca_reconstructions(recon_pairs, title=f\"{kernel_type.upper()} Kernel PCA: Original vs Reconstructed\")"
   ]
  }
 ],
 "metadata": {
  "accelerator": "GPU",
  "colab": {
   "authorship_tag": "ABX9TyPTxDFzpKQuHHpocgCIuX8P",
   "gpuType": "T4",
   "provenance": []
  },
  "kernelspec": {
   "display_name": "IDAS Python 3.11",
   "language": "python",
   "name": "python3"
  },
  "language_info": {
   "codemirror_mode": {
    "name": "ipython",
    "version": 3
   },
   "file_extension": ".py",
   "mimetype": "text/x-python",
   "name": "python",
   "nbconvert_exporter": "python",
   "pygments_lexer": "ipython3",
   "version": "3.11.4"
  }
 },
 "nbformat": 4,
 "nbformat_minor": 4
}
