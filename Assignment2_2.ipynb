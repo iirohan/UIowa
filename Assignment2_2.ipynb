{
  "nbformat": 4,
  "nbformat_minor": 0,
  "metadata": {
    "colab": {
      "provenance": []
    },
    "kernelspec": {
      "name": "python3",
      "display_name": "Python 3"
    },
    "language_info": {
      "name": "python"
    }
  },
  "cells": [
    {
      "cell_type": "code",
      "execution_count": null,
      "metadata": {
        "colab": {
          "base_uri": "https://localhost:8080/"
        },
        "id": "rh7n8G6yr3sa",
        "outputId": "df713f45-d9bf-46b4-ade6-403335f1abf8"
      },
      "outputs": [
        {
          "output_type": "stream",
          "name": "stdout",
          "text": [
            "Requirement already satisfied: folktables in /usr/local/lib/python3.11/dist-packages (0.0.12)\n",
            "Requirement already satisfied: numpy in /usr/local/lib/python3.11/dist-packages (from folktables) (1.26.4)\n",
            "Requirement already satisfied: pandas in /usr/local/lib/python3.11/dist-packages (from folktables) (2.2.2)\n",
            "Requirement already satisfied: requests in /usr/local/lib/python3.11/dist-packages (from folktables) (2.32.3)\n",
            "Requirement already satisfied: scikit-learn in /usr/local/lib/python3.11/dist-packages (from folktables) (1.6.1)\n",
            "Requirement already satisfied: python-dateutil>=2.8.2 in /usr/local/lib/python3.11/dist-packages (from pandas->folktables) (2.8.2)\n",
            "Requirement already satisfied: pytz>=2020.1 in /usr/local/lib/python3.11/dist-packages (from pandas->folktables) (2025.1)\n",
            "Requirement already satisfied: tzdata>=2022.7 in /usr/local/lib/python3.11/dist-packages (from pandas->folktables) (2025.1)\n",
            "Requirement already satisfied: charset-normalizer<4,>=2 in /usr/local/lib/python3.11/dist-packages (from requests->folktables) (3.4.1)\n",
            "Requirement already satisfied: idna<4,>=2.5 in /usr/local/lib/python3.11/dist-packages (from requests->folktables) (3.10)\n",
            "Requirement already satisfied: urllib3<3,>=1.21.1 in /usr/local/lib/python3.11/dist-packages (from requests->folktables) (2.3.0)\n",
            "Requirement already satisfied: certifi>=2017.4.17 in /usr/local/lib/python3.11/dist-packages (from requests->folktables) (2025.1.31)\n",
            "Requirement already satisfied: scipy>=1.6.0 in /usr/local/lib/python3.11/dist-packages (from scikit-learn->folktables) (1.13.1)\n",
            "Requirement already satisfied: joblib>=1.2.0 in /usr/local/lib/python3.11/dist-packages (from scikit-learn->folktables) (1.4.2)\n",
            "Requirement already satisfied: threadpoolctl>=3.1.0 in /usr/local/lib/python3.11/dist-packages (from scikit-learn->folktables) (3.5.0)\n",
            "Requirement already satisfied: six>=1.5 in /usr/local/lib/python3.11/dist-packages (from python-dateutil>=2.8.2->pandas->folktables) (1.17.0)\n",
            "Requirement already satisfied: numpy in /usr/local/lib/python3.11/dist-packages (1.26.4)\n",
            "Requirement already satisfied: pandas in /usr/local/lib/python3.11/dist-packages (2.2.2)\n",
            "Requirement already satisfied: scikit-learn in /usr/local/lib/python3.11/dist-packages (1.6.1)\n",
            "Requirement already satisfied: python-dateutil>=2.8.2 in /usr/local/lib/python3.11/dist-packages (from pandas) (2.8.2)\n",
            "Requirement already satisfied: pytz>=2020.1 in /usr/local/lib/python3.11/dist-packages (from pandas) (2025.1)\n",
            "Requirement already satisfied: tzdata>=2022.7 in /usr/local/lib/python3.11/dist-packages (from pandas) (2025.1)\n",
            "Requirement already satisfied: scipy>=1.6.0 in /usr/local/lib/python3.11/dist-packages (from scikit-learn) (1.13.1)\n",
            "Requirement already satisfied: joblib>=1.2.0 in /usr/local/lib/python3.11/dist-packages (from scikit-learn) (1.4.2)\n",
            "Requirement already satisfied: threadpoolctl>=3.1.0 in /usr/local/lib/python3.11/dist-packages (from scikit-learn) (3.5.0)\n",
            "Requirement already satisfied: six>=1.5 in /usr/local/lib/python3.11/dist-packages (from python-dateutil>=2.8.2->pandas) (1.17.0)\n"
          ]
        }
      ],
      "source": [
        "!pip install folktables\n",
        "!pip install numpy pandas scikit-learn\n",
        "\n",
        "import numpy as np\n",
        "import pandas as pd\n",
        "from folktables import ACSDataSource, BasicProblem, adult_filter\n",
        "from sklearn.model_selection import train_test_split\n",
        "from sklearn.preprocessing import StandardScaler\n",
        "from sklearn.linear_model import LogisticRegression\n",
        "from sklearn.metrics import accuracy_score, confusion_matrix"
      ]
    },
    {
      "cell_type": "code",
      "source": [
        "# Constants\n",
        "SURVEY_YEAR = '2018'\n",
        "HORIZON = '1-Year'\n",
        "TEST_SIZE = 0.2  # 20% Test Data\n",
        "RANDOM_STATE = 42  # For reproducibility"
      ],
      "metadata": {
        "id": "r_sXJQhdsIer"
      },
      "execution_count": null,
      "outputs": []
    },
    {
      "cell_type": "code",
      "source": [
        "def load_data():\n",
        "    data_source = ACSDataSource(survey_year=SURVEY_YEAR, horizon=HORIZON, survey='person')\n",
        "    return data_source.get_data(states=[\"IL\",\"IA\",\"NY\"], download=True)\n",
        "\n",
        "\n",
        "def define_problem(threshold):\n",
        "    return BasicProblem(\n",
        "        features=['AGEP', 'COW', 'SCHL', 'MAR', 'OCCP', 'POBP', 'RELP', 'WKHP', 'SEX', 'RAC1P'],\n",
        "        target='PINCP',\n",
        "        target_transform=lambda x: x > threshold,  # Convert income to binary classification\n",
        "        group='RAC1P',\n",
        "        preprocess=adult_filter,\n",
        "        postprocess=lambda x: np.nan_to_num(x, -1)  # Handle NaN values\n",
        "    )\n",
        "\n",
        "\n",
        "def preprocess_data(problem, raw_data):\n",
        "    X, y, _ = problem.df_to_numpy(raw_data)\n",
        "    return X, y\n",
        "\n",
        "\n",
        "def split_and_standardize(X, y, test_size=TEST_SIZE, random_state=RANDOM_STATE):\n",
        "    X_train, X_test, y_train, y_test = train_test_split(X, y, test_size=test_size, random_state=random_state)\n",
        "\n",
        "    scaler = StandardScaler()\n",
        "    X_train = scaler.fit_transform(X_train)\n",
        "    X_test = scaler.transform(X_test)\n",
        "\n",
        "    return X_train, X_test, y_train, y_test"
      ],
      "metadata": {
        "id": "FIY_xUSzsJ3P"
      },
      "execution_count": null,
      "outputs": []
    },
    {
      "cell_type": "code",
      "source": [
        "def train_logistic_regression(X_train, y_train):\n",
        "    model = LogisticRegression()\n",
        "    model.fit(X_train, y_train)\n",
        "    return model\n",
        "\n",
        "\n",
        "def evaluate_model(model, X_test, y_test):\n",
        "    y_pred = model.predict(X_test)\n",
        "    accuracy = accuracy_score(y_test, y_pred)\n",
        "\n",
        "    tn, fp, fn, tp = confusion_matrix(y_test, y_pred).ravel()\n",
        "    true_positive_rate = tp / (tp + fn) if (tp + fn) > 0 else 0\n",
        "    false_positive_rate = fp / (fp + tn) if (fp + tn) > 0 else 0\n",
        "\n",
        "    return {\n",
        "        \"accuracy\": accuracy,\n",
        "        \"true_positive_rate\": true_positive_rate,\n",
        "        \"false_positive_rate\": false_positive_rate\n",
        "    }\n"
      ],
      "metadata": {
        "id": "dpbks84ZsTV6"
      },
      "execution_count": null,
      "outputs": []
    },
    {
      "cell_type": "code",
      "source": [
        "# === Main Execution ===\n",
        "# if __name__ == \"__main__\":\n",
        "thresholds = [50000, 10000, 20000, 75000, 100000]\n",
        "\n",
        "raw_data = load_data()\n",
        "\n",
        "for threshold in thresholds:\n",
        "    problem = define_problem(threshold)\n",
        "    X, y = preprocess_data(problem, raw_data)\n",
        "\n",
        "    X_train, X_test, y_train, y_test = split_and_standardize(X, y)\n",
        "\n",
        "    model = train_logistic_regression(X_train, y_train)\n",
        "\n",
        "    metrics = evaluate_model(model, X_test, y_test)\n",
        "\n",
        "    print(f\"\\n=== Model Evaluation for threshold {threshold} ===\")\n",
        "    print(f\"Accuracy: {metrics['accuracy']:.4f}\")\n",
        "    print(f\"True Positive Rate (Recall): {metrics['true_positive_rate']:.4f}\")\n",
        "    print(f\"False Positive Rate: {metrics['false_positive_rate']:.4f}\")"
      ],
      "metadata": {
        "id": "PzWGyf01shpw",
        "colab": {
          "base_uri": "https://localhost:8080/"
        },
        "outputId": "00812d3c-db77-48f6-d325-01d8af6772aa"
      },
      "execution_count": null,
      "outputs": [
        {
          "output_type": "stream",
          "name": "stdout",
          "text": [
            "Downloading data for 2018 1-Year person survey for IL...\n",
            "\n",
            "=== Model Evaluation for threshold 50000 ===\n",
            "Accuracy: 0.7675\n",
            "True Positive Rate (Recall): 0.6673\n",
            "False Positive Rate: 0.1670\n",
            "\n",
            "=== Model Evaluation for threshold 10000 ===\n",
            "Accuracy: 0.9102\n",
            "True Positive Rate (Recall): 0.9758\n",
            "False Positive Rate: 0.4882\n",
            "\n",
            "=== Model Evaluation for threshold 20000 ===\n",
            "Accuracy: 0.8495\n",
            "True Positive Rate (Recall): 0.9471\n",
            "False Positive Rate: 0.4299\n",
            "\n",
            "=== Model Evaluation for threshold 75000 ===\n",
            "Accuracy: 0.8235\n",
            "True Positive Rate (Recall): 0.4381\n",
            "False Positive Rate: 0.0631\n",
            "\n",
            "=== Model Evaluation for threshold 100000 ===\n",
            "Accuracy: 0.8851\n",
            "True Positive Rate (Recall): 0.2742\n",
            "False Positive Rate: 0.0257\n"
          ]
        }
      ]
    },
    {
      "cell_type": "code",
      "source": [
        "from xgboost import XGBClassifier\n",
        "\n",
        "# raw_data = load_data()\n",
        "problem = define_problem(50000)\n",
        "X, y = preprocess_data(problem, raw_data)\n",
        "\n",
        "X_train, X_test, y_train, y_test = split_and_standardize(X, y)\n",
        "\n",
        "model = XGBClassifier(n_estimators=100, max_depth=6, learning_rate=0.1, random_state=42)\n",
        "model.fit(X_train, y_train)\n",
        "\n",
        "y_pred = model.predict(X_test)\n",
        "\n",
        "accuracy = accuracy_score(y_test, y_pred)\n",
        "tn, fp, fn, tp = confusion_matrix(y_test, y_pred).ravel()\n",
        "tpr = tp / (tp + fn)\n",
        "fpr = fp / (fp + tn)\n",
        "\n",
        "print(\"\\n=== Model Evaluation (XGBoost) ===\")\n",
        "print(f\"Accuracy: {accuracy:.4f}\")\n",
        "print(f\"True Positive Rate (Recall): {tpr:.4f}\")\n",
        "print(f\"False Positive Rate: {fpr:.4f}\")"
      ],
      "metadata": {
        "colab": {
          "base_uri": "https://localhost:8080/"
        },
        "id": "ipvcdqBFvMg6",
        "outputId": "56bb5437-9c67-434f-9980-688eae318fd8"
      },
      "execution_count": null,
      "outputs": [
        {
          "output_type": "stream",
          "name": "stdout",
          "text": [
            "\n",
            "=== Model Evaluation (XGBoost) ===\n",
            "Accuracy: 0.8059\n",
            "True Positive Rate (Recall): 0.7434\n",
            "False Positive Rate: 0.1533\n"
          ]
        }
      ]
    }
  ]
}